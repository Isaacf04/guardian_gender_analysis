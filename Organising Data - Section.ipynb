{
 "cells": [
  {
   "cell_type": "markdown",
   "metadata": {},
   "source": [
    "## Organising data by section\n",
    "\n",
    "The following python code reads the csv files that contain all Guardian articles for each year. This data is compared to a list of female and male names that has been compiled from [this dataset](https://data.world/howarder/gender-by-name). From this comparison a new csv file is created which shows the amount of bylines that are male and female each year. If an article has more than one author then it is counted twice, once for each author."
   ]
  },
  {
   "cell_type": "code",
   "execution_count": 11,
   "metadata": {
    "collapsed": true
   },
   "outputs": [],
   "source": [
    "import pandas as pd\n",
    "import csv"
   ]
  },
  {
   "cell_type": "code",
   "execution_count": 12,
   "metadata": {
    "collapsed": true
   },
   "outputs": [],
   "source": [
    "# a function that tallies the number or bylines that are male, female or unknown\n",
    "def sort(data, number):\n",
    "    male_articles=0\n",
    "    female_articles=0\n",
    "    unknown_articles=0\n",
    "    # account for different database layouts\n",
    "    if number > 2011:\n",
    "        #check for multiple authors\n",
    "        authors = str(row[6]).split(\",\")\n",
    "        section = row[7]\n",
    "    else:\n",
    "        authors = str(row[5]).split(\",\")\n",
    "        section = row[2]\n",
    "    # check for null \n",
    "    if not authors:\n",
    "        unknown_articles +=1\n",
    "    else:\n",
    "        for author in authors:\n",
    "            names = str.split(author)\n",
    "            if not names:\n",
    "                continue\n",
    "            else:\n",
    "                # account for articles written as Guardian, otherwise would be classed as male via dataset\n",
    "                if names[0] == \"Guardian\":\n",
    "                    unknown_articles += 1\n",
    "                elif names[0] in female:\n",
    "                    female_articles += 1\n",
    "                elif names[0] in male:\n",
    "                    male_articles += 1\n",
    "                else:\n",
    "                    unknown_articles += 1\n",
    "            i=0\n",
    "            # check again for more authors \n",
    "            for name in names:\n",
    "                if i < (len(names))-1:\n",
    "                    if name == \"and\":\n",
    "                        if names[i+1] == \"Guardian\":\n",
    "                            unknown_articles += 1\n",
    "                        elif names[i+1] in female:\n",
    "                            female_articles += 1\n",
    "                        elif names[i+1] in male:\n",
    "                            male_articles += 1\n",
    "            i+=1\n",
    "\n",
    "    d = {\n",
    "            'section' : section,\n",
    "            'male': male_articles,\n",
    "            'female': female_articles,\n",
    "        }\n",
    "\n",
    "    return d"
   ]
  },
  {
   "cell_type": "code",
   "execution_count": 13,
   "metadata": {
    "collapsed": true
   },
   "outputs": [],
   "source": [
    "# separate male and female names from dataset\n",
    "df = pd.read_csv(\"name_gender.csv\")"
   ]
  },
  {
   "cell_type": "code",
   "execution_count": 14,
   "metadata": {
    "collapsed": true,
    "scrolled": false
   },
   "outputs": [],
   "source": [
    "# create empty lists\n",
    "male = set()\n",
    "female = set()\n",
    "\n",
    "#add names to each list \n",
    "for row in df.itertuples():\n",
    "    if row[2] == \"M\":\n",
    "        male.add(row[1])\n",
    "    if row[2] == \"F\":\n",
    "        female.add(row[1])"
   ]
  },
  {
   "cell_type": "code",
   "execution_count": 16,
   "metadata": {
    "scrolled": false
   },
   "outputs": [
    {
     "name": "stdout",
     "output_type": "stream",
     "text": [
      "2008\n",
      "2009\n",
      "2010\n",
      "2011\n",
      "2012\n",
      "2013\n",
      "2014\n",
      "2015\n",
      "2016\n",
      "2017\n"
     ]
    }
   ],
   "source": [
    "# read csv document for each year\n",
    "year = 2008\n",
    "while year<2018:\n",
    "    print(year)\n",
    "    results = []\n",
    "    database = pd.read_csv('articles' + str(year) + '.csv')\n",
    "    #analyse gender \n",
    "    for row in database.itertuples():\n",
    "        d = sort(row, year)\n",
    "        results.append(d)\n",
    "    df2 = pd.DataFrame(results)\n",
    "    # group data by section\n",
    "    df3 = df2.groupby(\"section\").sum()\n",
    "    # create new csv with all sections \n",
    "    df3.to_csv('all_sections' + str(year) + '.csv')\n",
    "    year +=1\n",
    "    "
   ]
  },
  {
   "cell_type": "code",
   "execution_count": 19,
   "metadata": {},
   "outputs": [],
   "source": [
    "# function that lets you choose top sections \n",
    "def clean_sections(year):\n",
    "    # read in whichever year you want to choose top sections of\n",
    "    database = pd.read_csv('all_sections' + str(year) +'.csv')\n",
    "    \n",
    "    # create final empty list for results\n",
    "    final = []\n",
    "    \n",
    "    # read each row to see if big enough to be in top \n",
    "    for row in database.itertuples():\n",
    "        \n",
    "    # number must be adjusted depending on how many sections you want \n",
    "        if (int(row[2]) + int(row[3]) > 1700):\n",
    "            d ={\n",
    "                \"section\" : row[1],\n",
    "                \"female\" : row[2],\n",
    "                \"male\" : row[3],\n",
    "            }\n",
    "            final.append(d)\n",
    "\n",
    "    # create dataframe and check to see how many sections you have and adjust \n",
    "    df4 = pd.DataFrame(final)\n",
    "    df4\n",
    "    \n",
    "    #set index to section for easier visualisation\n",
    "    df5 = df4.set_index('section')\n",
    "    \n",
    "    df5.to_csv('top_sections' + str(year) + '.csv')\n",
    "    print(\"done\")"
   ]
  },
  {
   "cell_type": "code",
   "execution_count": null,
   "metadata": {
    "collapsed": true
   },
   "outputs": [],
   "source": []
  },
  {
   "cell_type": "code",
   "execution_count": 20,
   "metadata": {},
   "outputs": [
    {
     "name": "stdout",
     "output_type": "stream",
     "text": [
      "done\n"
     ]
    }
   ],
   "source": [
    "clean_sections(2008)"
   ]
  },
  {
   "cell_type": "code",
   "execution_count": null,
   "metadata": {
    "collapsed": true
   },
   "outputs": [],
   "source": []
  },
  {
   "cell_type": "code",
   "execution_count": 397,
   "metadata": {},
   "outputs": [
    {
     "name": "stdout",
     "output_type": "stream",
     "text": [
      "done\n"
     ]
    }
   ],
   "source": []
  },
  {
   "cell_type": "code",
   "execution_count": 398,
   "metadata": {
    "collapsed": true
   },
   "outputs": [],
   "source": [
    "database = pd.read_csv(\"messy_sections.csv\")"
   ]
  },
  {
   "cell_type": "code",
   "execution_count": 422,
   "metadata": {
    "collapsed": true
   },
   "outputs": [],
   "source": [
    "final= []\n",
    "\n",
    "for row in database.itertuples():\n",
    "    if (int(row[2]) + int(row[3]) > 1700):\n",
    "        d ={\n",
    "            \"section\" : row[1],\n",
    "            \"female\" : row[2],\n",
    "            \"male\" : row[3],\n",
    "        }\n",
    "        final.append(d)\n",
    "        \n",
    "        "
   ]
  },
  {
   "cell_type": "code",
   "execution_count": 423,
   "metadata": {},
   "outputs": [
    {
     "data": {
      "text/html": [
       "<div>\n",
       "<style>\n",
       "    .dataframe thead tr:only-child th {\n",
       "        text-align: right;\n",
       "    }\n",
       "\n",
       "    .dataframe thead th {\n",
       "        text-align: left;\n",
       "    }\n",
       "\n",
       "    .dataframe tbody tr th {\n",
       "        vertical-align: top;\n",
       "    }\n",
       "</style>\n",
       "<table border=\"1\" class=\"dataframe\">\n",
       "  <thead>\n",
       "    <tr style=\"text-align: right;\">\n",
       "      <th></th>\n",
       "      <th>female</th>\n",
       "      <th>male</th>\n",
       "      <th>section</th>\n",
       "    </tr>\n",
       "  </thead>\n",
       "  <tbody>\n",
       "    <tr>\n",
       "      <th>0</th>\n",
       "      <td>1861</td>\n",
       "      <td>2571</td>\n",
       "      <td>Books</td>\n",
       "    </tr>\n",
       "    <tr>\n",
       "      <th>1</th>\n",
       "      <td>3134</td>\n",
       "      <td>6747</td>\n",
       "      <td>Business</td>\n",
       "    </tr>\n",
       "    <tr>\n",
       "      <th>2</th>\n",
       "      <td>549</td>\n",
       "      <td>1152</td>\n",
       "      <td>Culture</td>\n",
       "    </tr>\n",
       "    <tr>\n",
       "      <th>3</th>\n",
       "      <td>1934</td>\n",
       "      <td>1065</td>\n",
       "      <td>Education</td>\n",
       "    </tr>\n",
       "    <tr>\n",
       "      <th>4</th>\n",
       "      <td>895</td>\n",
       "      <td>1922</td>\n",
       "      <td>Environment</td>\n",
       "    </tr>\n",
       "    <tr>\n",
       "      <th>5</th>\n",
       "      <td>719</td>\n",
       "      <td>3102</td>\n",
       "      <td>Film</td>\n",
       "    </tr>\n",
       "    <tr>\n",
       "      <th>6</th>\n",
       "      <td>672</td>\n",
       "      <td>7408</td>\n",
       "      <td>Football</td>\n",
       "    </tr>\n",
       "    <tr>\n",
       "      <th>7</th>\n",
       "      <td>2458</td>\n",
       "      <td>2308</td>\n",
       "      <td>Life and style</td>\n",
       "    </tr>\n",
       "    <tr>\n",
       "      <th>8</th>\n",
       "      <td>3473</td>\n",
       "      <td>6098</td>\n",
       "      <td>Media</td>\n",
       "    </tr>\n",
       "    <tr>\n",
       "      <th>9</th>\n",
       "      <td>1731</td>\n",
       "      <td>1591</td>\n",
       "      <td>Money</td>\n",
       "    </tr>\n",
       "    <tr>\n",
       "      <th>10</th>\n",
       "      <td>1731</td>\n",
       "      <td>4984</td>\n",
       "      <td>Music</td>\n",
       "    </tr>\n",
       "    <tr>\n",
       "      <th>11</th>\n",
       "      <td>2661</td>\n",
       "      <td>8388</td>\n",
       "      <td>Opinion</td>\n",
       "    </tr>\n",
       "    <tr>\n",
       "      <th>12</th>\n",
       "      <td>1467</td>\n",
       "      <td>4565</td>\n",
       "      <td>Politics</td>\n",
       "    </tr>\n",
       "    <tr>\n",
       "      <th>13</th>\n",
       "      <td>1220</td>\n",
       "      <td>1654</td>\n",
       "      <td>Society</td>\n",
       "    </tr>\n",
       "    <tr>\n",
       "      <th>14</th>\n",
       "      <td>862</td>\n",
       "      <td>10266</td>\n",
       "      <td>Sport</td>\n",
       "    </tr>\n",
       "    <tr>\n",
       "      <th>15</th>\n",
       "      <td>1046</td>\n",
       "      <td>1121</td>\n",
       "      <td>Stage</td>\n",
       "    </tr>\n",
       "    <tr>\n",
       "      <th>16</th>\n",
       "      <td>601</td>\n",
       "      <td>3279</td>\n",
       "      <td>Technology</td>\n",
       "    </tr>\n",
       "    <tr>\n",
       "      <th>17</th>\n",
       "      <td>1548</td>\n",
       "      <td>4195</td>\n",
       "      <td>UK news</td>\n",
       "    </tr>\n",
       "    <tr>\n",
       "      <th>18</th>\n",
       "      <td>1035</td>\n",
       "      <td>2988</td>\n",
       "      <td>US news</td>\n",
       "    </tr>\n",
       "    <tr>\n",
       "      <th>19</th>\n",
       "      <td>2531</td>\n",
       "      <td>7116</td>\n",
       "      <td>World news</td>\n",
       "    </tr>\n",
       "  </tbody>\n",
       "</table>\n",
       "</div>"
      ],
      "text/plain": [
       "    female   male         section\n",
       "0     1861   2571           Books\n",
       "1     3134   6747        Business\n",
       "2      549   1152         Culture\n",
       "3     1934   1065       Education\n",
       "4      895   1922     Environment\n",
       "5      719   3102            Film\n",
       "6      672   7408        Football\n",
       "7     2458   2308  Life and style\n",
       "8     3473   6098           Media\n",
       "9     1731   1591           Money\n",
       "10    1731   4984           Music\n",
       "11    2661   8388         Opinion\n",
       "12    1467   4565        Politics\n",
       "13    1220   1654         Society\n",
       "14     862  10266           Sport\n",
       "15    1046   1121           Stage\n",
       "16     601   3279      Technology\n",
       "17    1548   4195         UK news\n",
       "18    1035   2988         US news\n",
       "19    2531   7116      World news"
      ]
     },
     "execution_count": 423,
     "metadata": {},
     "output_type": "execute_result"
    }
   ],
   "source": [
    "df4 = pd.DataFrame(final)\n",
    "df4"
   ]
  },
  {
   "cell_type": "code",
   "execution_count": 424,
   "metadata": {
    "collapsed": true
   },
   "outputs": [],
   "source": [
    "df5 = df4.set_index('section')"
   ]
  },
  {
   "cell_type": "code",
   "execution_count": 425,
   "metadata": {},
   "outputs": [
    {
     "name": "stdout",
     "output_type": "stream",
     "text": [
      "done\n"
     ]
    }
   ],
   "source": [
    "df5.to_csv('2008_sections.csv')\n",
    "print(\"done\")"
   ]
  },
  {
   "cell_type": "code",
   "execution_count": null,
   "metadata": {
    "collapsed": true
   },
   "outputs": [],
   "source": []
  }
 ],
 "metadata": {
  "kernelspec": {
   "display_name": "Python 3",
   "language": "python",
   "name": "python3"
  },
  "language_info": {
   "codemirror_mode": {
    "name": "ipython",
    "version": 3
   },
   "file_extension": ".py",
   "mimetype": "text/x-python",
   "name": "python",
   "nbconvert_exporter": "python",
   "pygments_lexer": "ipython3",
   "version": "3.6.3"
  }
 },
 "nbformat": 4,
 "nbformat_minor": 2
}
