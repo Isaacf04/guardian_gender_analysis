{
 "cells": [
  {
   "cell_type": "markdown",
   "metadata": {},
   "source": [
    "## Organising data by year\n",
    "\n",
    "The following python code reads the csv files that contain all Guardian articles for each year. This data is compared to a list of female and male names that has been compiled from [this dataset](https://data.world/howarder/gender-by-name). From this comparison a new csv file is created which shows the amount of bylines that are male and female each year. If an article has more than one author then it is counted twice, once for each author."
   ]
  },
  {
   "cell_type": "code",
   "execution_count": 1,
   "metadata": {
    "collapsed": true
   },
   "outputs": [],
   "source": [
    "import pandas as pd\n",
    "import csv"
   ]
  },
  {
   "cell_type": "code",
   "execution_count": 2,
   "metadata": {
    "collapsed": true
   },
   "outputs": [],
   "source": [
    "# a function that tallies the number or bylines that are male, female or unknown\n",
    "def sort(database, number):\n",
    "    print(number)\n",
    "    male_articles=0\n",
    "    female_articles=0\n",
    "    unknown_articles=0\n",
    "    for row in database.itertuples():\n",
    "        # account for different database layouts\n",
    "        if number > 2011: \n",
    "            #check for multiple authors\n",
    "            authors = str(row[6]).split(\",\")\n",
    "            date = str(row[2]).split(\"-\")\n",
    "        else:\n",
    "            authors = str(row[5]).split(\",\")\n",
    "            date = str(row[1]).split(\"-\")\n",
    "        # extract year from date column\n",
    "        year = date[0]\n",
    "        # check for null \n",
    "        if not authors:\n",
    "            unknown_articles +=1\n",
    "        else:\n",
    "            for author in authors:\n",
    "                names = str.split(author)\n",
    "                if not names:\n",
    "                    continue\n",
    "                else: \n",
    "                    # account for articles written as Guardian, otherwise would be classed as male via dataset\n",
    "                    if names[0] == \"Guardian\":\n",
    "                        unknown_articles += 1\n",
    "                    elif names[0] in female:\n",
    "                        female_articles += 1\n",
    "                    elif names[0] in male:\n",
    "                        male_articles += 1\n",
    "                    else:\n",
    "                        unknown_articles += 1\n",
    "                i=0\n",
    "                # check again for more authors \n",
    "                for name in names:\n",
    "                    if i < (len(names))-1:\n",
    "                        if name == \"and\":\n",
    "                            if names[i+1] == \"Guardian\":\n",
    "                                unknown_articles += 1\n",
    "                            elif names[i+1] in female:\n",
    "                                female_articles += 1\n",
    "                            elif names[i+1] in male:\n",
    "                                male_articles += 1\n",
    "                i+=1\n",
    "\n",
    "    d = {\n",
    "            'year' : year,\n",
    "            'male': male_articles,\n",
    "            'female': female_articles,\n",
    "        }\n",
    "\n",
    "    return d\n"
   ]
  },
  {
   "cell_type": "code",
   "execution_count": 3,
   "metadata": {
    "collapsed": true
   },
   "outputs": [],
   "source": [
    "# separate male and female names from dataset\n",
    "df = pd.read_csv(\"name_gender.csv\")\n",
    "\n",
    "# create empty lists \n",
    "male = set()\n",
    "female = set()\n",
    "\n",
    "#add names to each list \n",
    "for row in df.itertuples():\n",
    "    if row[2] == \"M\":\n",
    "        male.add(row[1])\n",
    "    if row[2] == \"F\":\n",
    "        female.add(row[1])"
   ]
  },
  {
   "cell_type": "code",
   "execution_count": 5,
   "metadata": {},
   "outputs": [
    {
     "name": "stdout",
     "output_type": "stream",
     "text": [
      "2017\n"
     ]
    }
   ],
   "source": [
    "# create dataframe from first document \n",
    "df2017 = pd.read_csv(\"articles2017.csv\")\n",
    "year = 2017\n",
    "d = sort(df2017, year)\n",
    "df2 = pd.DataFrame(d, index=[0])"
   ]
  },
  {
   "cell_type": "code",
   "execution_count": 6,
   "metadata": {
    "scrolled": false
   },
   "outputs": [
    {
     "name": "stdout",
     "output_type": "stream",
     "text": [
      "2016\n",
      "2015\n",
      "2014\n",
      "2013\n",
      "2012\n",
      "2011\n",
      "2010\n",
      "2009\n",
      "2008\n"
     ]
    }
   ],
   "source": [
    "# append initial dataframe with rest of documents \n",
    "year = 2016\n",
    "index = 1 \n",
    "while year >= 2008:\n",
    "    s = str(year)\n",
    "    data = pd.read_csv('articles' + s + '.csv')\n",
    "    d = sort(data, year)\n",
    "    df2.loc[index] = (d)\n",
    "    year -= 1\n",
    "    index += 1"
   ]
  },
  {
   "cell_type": "code",
   "execution_count": 8,
   "metadata": {
    "collapsed": true
   },
   "outputs": [],
   "source": [
    "# change index to year \n",
    "df3 = df2.set_index('year')"
   ]
  },
  {
   "cell_type": "code",
   "execution_count": 9,
   "metadata": {},
   "outputs": [
    {
     "name": "stdout",
     "output_type": "stream",
     "text": [
      "done\n"
     ]
    }
   ],
   "source": [
    "# create new csv\n",
    "df3.to_csv('articles_by_year.csv')\n",
    "print(\"done\")"
   ]
  },
  {
   "cell_type": "code",
   "execution_count": null,
   "metadata": {
    "collapsed": true
   },
   "outputs": [],
   "source": []
  },
  {
   "cell_type": "code",
   "execution_count": null,
   "metadata": {
    "collapsed": true
   },
   "outputs": [],
   "source": []
  }
 ],
 "metadata": {
  "kernelspec": {
   "display_name": "Python 3",
   "language": "python",
   "name": "python3"
  },
  "language_info": {
   "codemirror_mode": {
    "name": "ipython",
    "version": 3
   },
   "file_extension": ".py",
   "mimetype": "text/x-python",
   "name": "python",
   "nbconvert_exporter": "python",
   "pygments_lexer": "ipython3",
   "version": "3.6.3"
  }
 },
 "nbformat": 4,
 "nbformat_minor": 2
}
